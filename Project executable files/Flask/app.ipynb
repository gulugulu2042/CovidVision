{
  "nbformat": 4,
  "nbformat_minor": 0,
  "metadata": {
    "colab": {
      "provenance": []
    },
    "kernelspec": {
      "name": "python3",
      "display_name": "Python 3"
    },
    "language_info": {
      "name": "python"
    }
  },
  "cells": [
    {
      "cell_type": "code",
      "source": [
        "from google.colab import drive\n",
        "drive.mount('/content/drive/')"
      ],
      "metadata": {
        "colab": {
          "base_uri": "https://localhost:8080/"
        },
        "id": "QgFxMHJszupd",
        "outputId": "427585f2-272d-4f4f-b0e5-c56e1154bf5b"
      },
      "execution_count": 1,
      "outputs": [
        {
          "output_type": "stream",
          "name": "stdout",
          "text": [
            "Drive already mounted at /content/drive/; to attempt to forcibly remount, call drive.mount(\"/content/drive/\", force_remount=True).\n"
          ]
        }
      ]
    },
    {
      "cell_type": "code",
      "execution_count": 2,
      "metadata": {
        "id": "Yuchf3Lmbomr",
        "colab": {
          "base_uri": "https://localhost:8080/"
        },
        "outputId": "edc8ef4e-0a4a-4f6a-bfe9-3917926eb008"
      },
      "outputs": [
        {
          "output_type": "stream",
          "name": "stdout",
          "text": [
            "/content/drive/MyDrive\n"
          ]
        }
      ],
      "source": [
        "%cd /content/drive/MyDrive"
      ]
    },
    {
      "cell_type": "code",
      "source": [
        "from google.colab.output import eval_js\n",
        "print(eval_js(\"google.colab.kernel.proxyPort (5000)\"))"
      ],
      "metadata": {
        "colab": {
          "base_uri": "https://localhost:8080/",
          "height": 34
        },
        "id": "OP5-CFrux6Um",
        "outputId": "832024f8-f403-46b2-fc38-2dc0a4bd879c"
      },
      "execution_count": 3,
      "outputs": [
        {
          "output_type": "stream",
          "name": "stdout",
          "text": [
            "https://obt5yn0ce0i-496ff2e9c6d22116-5000-colab.googleusercontent.com/\n"
          ]
        }
      ]
    },
    {
      "cell_type": "code",
      "source": [
        "import numpy as np\n",
        "import os\n",
        "from tensorflow.keras.models import load_model\n",
        "from tensorflow.keras.preprocessing import image\n",
        "import tensorflow as tf\n",
        "\n"
      ],
      "metadata": {
        "id": "x9znCVb32owg"
      },
      "execution_count": 4,
      "outputs": []
    },
    {
      "cell_type": "code",
      "source": [
        "from flask import Flask, render_template, request\n",
        "import os\n",
        "import numpy as np\n",
        "from tensorflow.keras.models import load_model\n",
        "from tensorflow.keras.preprocessing import image\n",
        "\n",
        "app = Flask(__name__, static_folder='/content/drive/MyDrive/Flask/static/', template_folder='/content/drive/MyDrive/Flask/templates/')\n",
        "\n",
        "model = load_model(\"/content/drive/MyDrive/vgg16.h5\")\n",
        "\n",
        "upload_folder = '/content/drive/MyDrive/Flask/uploads'\n",
        "os.makedirs(upload_folder, exist_ok=True)\n",
        "\n",
        "@app.route('/')\n",
        "def index():\n",
        "    return render_template('base.html')\n",
        "\n",
        "@app.route('/predict', methods=['GET', 'POST'])\n",
        "def upload():\n",
        "    text = \"\"\n",
        "    if request.method == 'POST':\n",
        "        f = request.files['image']\n",
        "\n",
        "        filepath = os.path.join(upload_folder, f.filename)\n",
        "        f.save(filepath)\n",
        "\n",
        "        img = image.load_img(filepath, target_size=(256, 256))\n",
        "        x = image.img_to_array(img)\n",
        "        x = np.expand_dims(x, axis=0)\n",
        "\n",
        "        # Normalize the image if required\n",
        "        x = x / 255.0\n",
        "        preds = model.predict(x)\n",
        "        result = \"\"\n",
        "        if preds[0][0] > 0.5:\n",
        "            result = \"Normal\"\n",
        "        else:\n",
        "            result = \"COVID-19\"\n",
        "    return result\n",
        "\n",
        "if __name__ == '__main__':\n",
        "    app.run()\n"
      ],
      "metadata": {
        "colab": {
          "base_uri": "https://localhost:8080/"
        },
        "id": "m-v80macB9Wh",
        "outputId": "7313c373-b51f-44ce-9f95-f3dbda262720"
      },
      "execution_count": null,
      "outputs": [
        {
          "output_type": "stream",
          "name": "stdout",
          "text": [
            " * Serving Flask app '__main__'\n",
            " * Debug mode: off\n"
          ]
        },
        {
          "output_type": "stream",
          "name": "stderr",
          "text": [
            "INFO:werkzeug:\u001b[31m\u001b[1mWARNING: This is a development server. Do not use it in a production deployment. Use a production WSGI server instead.\u001b[0m\n",
            " * Running on http://127.0.0.1:5000\n",
            "INFO:werkzeug:\u001b[33mPress CTRL+C to quit\u001b[0m\n",
            "INFO:werkzeug:127.0.0.1 - - [19/Jul/2024 18:21:24] \"GET / HTTP/1.1\" 200 -\n",
            "INFO:werkzeug:127.0.0.1 - - [19/Jul/2024 18:21:25] \"GET /static/css/main.css HTTP/1.1\" 200 -\n",
            "INFO:werkzeug:127.0.0.1 - - [19/Jul/2024 18:21:25] \"GET /static/js/main.js HTTP/1.1\" 200 -\n",
            "INFO:werkzeug:127.0.0.1 - - [19/Jul/2024 18:21:26] \"\u001b[33mGET /favicon.ico HTTP/1.1\u001b[0m\" 404 -\n",
            "WARNING:tensorflow:6 out of the last 12 calls to <function Model.make_predict_function.<locals>.predict_function at 0x7a0173cca290> triggered tf.function retracing. Tracing is expensive and the excessive number of tracings could be due to (1) creating @tf.function repeatedly in a loop, (2) passing tensors with different shapes, (3) passing Python objects instead of tensors. For (1), please define your @tf.function outside of the loop. For (2), @tf.function has reduce_retracing=True option that can avoid unnecessary retracing. For (3), please refer to https://www.tensorflow.org/guide/function#controlling_retracing and https://www.tensorflow.org/api_docs/python/tf/function for  more details.\n"
          ]
        },
        {
          "output_type": "stream",
          "name": "stdout",
          "text": [
            "1/1 [==============================] - 1s 743ms/step\n"
          ]
        },
        {
          "output_type": "stream",
          "name": "stderr",
          "text": [
            "INFO:werkzeug:127.0.0.1 - - [19/Jul/2024 18:21:37] \"POST /predict HTTP/1.1\" 200 -\n"
          ]
        }
      ]
    }
  ]
}